{
 "cells": [
  {
   "cell_type": "code",
   "execution_count": 1,
   "metadata": {},
   "outputs": [
    {
     "name": "stdout",
     "output_type": "stream",
     "text": [
      "[nltk_data] Downloading package stopwords to\n",
      "[nltk_data]     C:\\Users\\manoj\\AppData\\Roaming\\nltk_data...\n",
      "[nltk_data]   Package stopwords is already up-to-date!\n"
     ]
    }
   ],
   "source": [
    "%matplotlib inline\n",
    "import numpy as np\n",
    "import pandas as pd\n",
    "from sklearn.feature_extraction.text import TfidfVectorizer\n",
    "from sklearn.decomposition import TruncatedSVD\n",
    "from sklearn import tree\n",
    "from matplotlib import pyplot as plt\n",
    "import graphviz\n",
    "import nltk\n",
    "nltk.download('stopwords')\n",
    "from nltk.corpus import stopwords\n",
    "import re"
   ]
  },
  {
   "cell_type": "code",
   "execution_count": 2,
   "metadata": {},
   "outputs": [
    {
     "data": {
      "text/html": [
       "<div>\n",
       "<style scoped>\n",
       "    .dataframe tbody tr th:only-of-type {\n",
       "        vertical-align: middle;\n",
       "    }\n",
       "\n",
       "    .dataframe tbody tr th {\n",
       "        vertical-align: top;\n",
       "    }\n",
       "\n",
       "    .dataframe thead th {\n",
       "        text-align: right;\n",
       "    }\n",
       "</style>\n",
       "<table border=\"1\" class=\"dataframe\">\n",
       "  <thead>\n",
       "    <tr style=\"text-align: right;\">\n",
       "      <th></th>\n",
       "      <th>sentiment</th>\n",
       "      <th>date</th>\n",
       "      <th>tweet</th>\n",
       "      <th>score</th>\n",
       "    </tr>\n",
       "  </thead>\n",
       "  <tbody>\n",
       "    <tr>\n",
       "      <th>1</th>\n",
       "      <td>|negative|</td>\n",
       "      <td>2019-02-11</td>\n",
       "      <td>b  RT  shadownomics  There is no such thing as...</td>\n",
       "      <td>-1.0</td>\n",
       "    </tr>\n",
       "    <tr>\n",
       "      <th>3</th>\n",
       "      <td>|positive|</td>\n",
       "      <td>2019-02-11</td>\n",
       "      <td>b  Join  RobinhoodApp and we ll both get a sto...</td>\n",
       "      <td>4.0</td>\n",
       "    </tr>\n",
       "    <tr>\n",
       "      <th>4</th>\n",
       "      <td>|negative|</td>\n",
       "      <td>2019-02-11</td>\n",
       "      <td>b  RT  SeekingAlpha   AAPL   Apple  Valentine ...</td>\n",
       "      <td>-1.0</td>\n",
       "    </tr>\n",
       "    <tr>\n",
       "      <th>5</th>\n",
       "      <td>|positive|</td>\n",
       "      <td>2019-02-11</td>\n",
       "      <td>b  Join  RobinhoodApp and we ll both get a sto...</td>\n",
       "      <td>4.0</td>\n",
       "    </tr>\n",
       "    <tr>\n",
       "      <th>6</th>\n",
       "      <td>|positive|</td>\n",
       "      <td>2019-02-11</td>\n",
       "      <td>b  Samsung 2019 OLED TVs available for pre ord...</td>\n",
       "      <td>2.0</td>\n",
       "    </tr>\n",
       "  </tbody>\n",
       "</table>\n",
       "</div>"
      ],
      "text/plain": [
       "    sentiment         date                                              tweet  \\\n",
       "1  |negative|  2019-02-11   b  RT  shadownomics  There is no such thing as...   \n",
       "3  |positive|  2019-02-11   b  Join  RobinhoodApp and we ll both get a sto...   \n",
       "4  |negative|  2019-02-11   b  RT  SeekingAlpha   AAPL   Apple  Valentine ...   \n",
       "5  |positive|  2019-02-11   b  Join  RobinhoodApp and we ll both get a sto...   \n",
       "6  |positive|  2019-02-11   b  Samsung 2019 OLED TVs available for pre ord...   \n",
       "\n",
       "   score  \n",
       "1   -1.0  \n",
       "3    4.0  \n",
       "4   -1.0  \n",
       "5    4.0  \n",
       "6    2.0  "
      ]
     },
     "execution_count": 2,
     "metadata": {},
     "output_type": "execute_result"
    }
   ],
   "source": [
    "stop = stopwords.words('english')\n",
    "df = pd.read_csv('git/StockMarketAnalysis/Data/SampleTweets.csv', names=['sentiment','date', 'tweet', 'score'])\n",
    "df['tweet'].apply(lambda x: [item for item in x if item not in stop])\n",
    "df['tweet'] = df['tweet'].str.replace('\\W', ' ')\n",
    "df = df[df.sentiment != '|neutral|']\n",
    "df.drop_duplicates(subset='tweet', keep=\"last\")\n",
    "df.head()"
   ]
  },
  {
   "cell_type": "code",
   "execution_count": 3,
   "metadata": {},
   "outputs": [
    {
     "data": {
      "text/plain": [
       "sentiment     object\n",
       "date          object\n",
       "tweet         object\n",
       "score        float64\n",
       "dtype: object"
      ]
     },
     "execution_count": 3,
     "metadata": {},
     "output_type": "execute_result"
    }
   ],
   "source": [
    "df.dtypes"
   ]
  },
  {
   "cell_type": "code",
   "execution_count": 4,
   "metadata": {},
   "outputs": [
    {
     "data": {
      "text/plain": [
       "sentiment    category\n",
       "date           object\n",
       "tweet        category\n",
       "score         float64\n",
       "dtype: object"
      ]
     },
     "execution_count": 4,
     "metadata": {},
     "output_type": "execute_result"
    }
   ],
   "source": [
    "df.sentiment = df.sentiment.astype('category')\n",
    "df.tweet = df.tweet.astype('category')\n",
    "df.dtypes"
   ]
  },
  {
   "cell_type": "code",
   "execution_count": 5,
   "metadata": {},
   "outputs": [],
   "source": [
    "Vectorizer = TfidfVectorizer(analyzer='word', stop_words='english', ngram_range=(1,3))\n",
    "tfidf = Vectorizer.fit_transform(df.tweet)\n",
    "vocabulary = pd.Series(Vectorizer.get_feature_names())"
   ]
  },
  {
   "cell_type": "code",
   "execution_count": 6,
   "metadata": {},
   "outputs": [
    {
     "data": {
      "text/plain": [
       "(5582,)"
      ]
     },
     "execution_count": 6,
     "metadata": {},
     "output_type": "execute_result"
    }
   ],
   "source": [
    "vocabulary.shape"
   ]
  },
  {
   "cell_type": "code",
   "execution_count": 7,
   "metadata": {},
   "outputs": [
    {
     "data": {
      "text/plain": [
       "(268, 5582)"
      ]
     },
     "execution_count": 7,
     "metadata": {},
     "output_type": "execute_result"
    }
   ],
   "source": [
    "tfidf.shape"
   ]
  },
  {
   "cell_type": "code",
   "execution_count": 8,
   "metadata": {},
   "outputs": [],
   "source": [
    "SVD = TruncatedSVD(n_components=100)\n",
    "tfidf_reduced = SVD.fit_transform(tfidf)\n",
    "evr = pd.Series(SVD.explained_variance_ratio_)"
   ]
  },
  {
   "cell_type": "code",
   "execution_count": 9,
   "metadata": {},
   "outputs": [
    {
     "data": {
      "text/plain": [
       "<matplotlib.axes._subplots.AxesSubplot at 0x2346a51b668>"
      ]
     },
     "execution_count": 9,
     "metadata": {},
     "output_type": "execute_result"
    },
    {
     "data": {
      "image/png": "[encoded data removed]",
      "text/plain": [
       "<Figure size 432x288 with 1 Axes>"
      ]
     },
     "metadata": {
      "needs_background": "light"
     },
     "output_type": "display_data"
    }
   ],
   "source": [
    "evr.plot()"
   ]
  },
  {
   "cell_type": "code",
   "execution_count": 10,
   "metadata": {},
   "outputs": [
    {
     "data": {
      "text/plain": [
       "0.2853942933232655"
      ]
     },
     "execution_count": 10,
     "metadata": {},
     "output_type": "execute_result"
    }
   ],
   "source": [
    "1-evr.sum()"
   ]
  },
  {
   "cell_type": "code",
   "execution_count": 11,
   "metadata": {},
   "outputs": [
    {
     "data": {
      "text/html": [
       "<div>\n",
       "<style scoped>\n",
       "    .dataframe tbody tr th:only-of-type {\n",
       "        vertical-align: middle;\n",
       "    }\n",
       "\n",
       "    .dataframe tbody tr th {\n",
       "        vertical-align: top;\n",
       "    }\n",
       "\n",
       "    .dataframe thead th {\n",
       "        text-align: right;\n",
       "    }\n",
       "</style>\n",
       "<table border=\"1\" class=\"dataframe\">\n",
       "  <thead>\n",
       "    <tr style=\"text-align: right;\">\n",
       "      <th></th>\n",
       "      <th>sentiment</th>\n",
       "      <th>date</th>\n",
       "      <th>tweet</th>\n",
       "      <th>score</th>\n",
       "      <th>0</th>\n",
       "      <th>1</th>\n",
       "      <th>2</th>\n",
       "      <th>3</th>\n",
       "      <th>4</th>\n",
       "      <th>5</th>\n",
       "      <th>...</th>\n",
       "      <th>90</th>\n",
       "      <th>91</th>\n",
       "      <th>92</th>\n",
       "      <th>93</th>\n",
       "      <th>94</th>\n",
       "      <th>95</th>\n",
       "      <th>96</th>\n",
       "      <th>97</th>\n",
       "      <th>98</th>\n",
       "      <th>99</th>\n",
       "    </tr>\n",
       "  </thead>\n",
       "  <tbody>\n",
       "    <tr>\n",
       "      <th>0</th>\n",
       "      <td>NaN</td>\n",
       "      <td>NaN</td>\n",
       "      <td>NaN</td>\n",
       "      <td>NaN</td>\n",
       "      <td>0.004226</td>\n",
       "      <td>0.100904</td>\n",
       "      <td>-0.005942</td>\n",
       "      <td>0.140583</td>\n",
       "      <td>0.066988</td>\n",
       "      <td>-0.005676</td>\n",
       "      <td>...</td>\n",
       "      <td>-0.093137</td>\n",
       "      <td>0.061159</td>\n",
       "      <td>-0.054413</td>\n",
       "      <td>0.045821</td>\n",
       "      <td>-0.126615</td>\n",
       "      <td>-0.024724</td>\n",
       "      <td>-0.077025</td>\n",
       "      <td>-0.004301</td>\n",
       "      <td>-0.038125</td>\n",
       "      <td>-0.080263</td>\n",
       "    </tr>\n",
       "    <tr>\n",
       "      <th>1</th>\n",
       "      <td>|negative|</td>\n",
       "      <td>2019-02-11</td>\n",
       "      <td>b  RT  shadownomics  There is no such thing as...</td>\n",
       "      <td>-1.0</td>\n",
       "      <td>0.812138</td>\n",
       "      <td>-0.012455</td>\n",
       "      <td>-0.003893</td>\n",
       "      <td>-0.007397</td>\n",
       "      <td>-0.012624</td>\n",
       "      <td>0.001599</td>\n",
       "      <td>...</td>\n",
       "      <td>-0.002050</td>\n",
       "      <td>0.001250</td>\n",
       "      <td>0.001780</td>\n",
       "      <td>0.004271</td>\n",
       "      <td>0.000171</td>\n",
       "      <td>-0.005292</td>\n",
       "      <td>-0.000432</td>\n",
       "      <td>-0.000197</td>\n",
       "      <td>0.000652</td>\n",
       "      <td>0.000560</td>\n",
       "    </tr>\n",
       "    <tr>\n",
       "      <th>2</th>\n",
       "      <td>NaN</td>\n",
       "      <td>NaN</td>\n",
       "      <td>NaN</td>\n",
       "      <td>NaN</td>\n",
       "      <td>0.012332</td>\n",
       "      <td>0.042987</td>\n",
       "      <td>-0.000168</td>\n",
       "      <td>0.000177</td>\n",
       "      <td>0.042983</td>\n",
       "      <td>-0.006323</td>\n",
       "      <td>...</td>\n",
       "      <td>0.003625</td>\n",
       "      <td>-0.001461</td>\n",
       "      <td>-0.005353</td>\n",
       "      <td>-0.000355</td>\n",
       "      <td>0.006541</td>\n",
       "      <td>0.009740</td>\n",
       "      <td>0.000903</td>\n",
       "      <td>0.001890</td>\n",
       "      <td>0.007119</td>\n",
       "      <td>-0.005651</td>\n",
       "    </tr>\n",
       "    <tr>\n",
       "      <th>3</th>\n",
       "      <td>|positive|</td>\n",
       "      <td>2019-02-11</td>\n",
       "      <td>b  Join  RobinhoodApp and we ll both get a sto...</td>\n",
       "      <td>4.0</td>\n",
       "      <td>0.812138</td>\n",
       "      <td>-0.012455</td>\n",
       "      <td>-0.003894</td>\n",
       "      <td>-0.007397</td>\n",
       "      <td>-0.012624</td>\n",
       "      <td>0.001599</td>\n",
       "      <td>...</td>\n",
       "      <td>-0.001813</td>\n",
       "      <td>0.001978</td>\n",
       "      <td>0.001651</td>\n",
       "      <td>0.005068</td>\n",
       "      <td>0.000679</td>\n",
       "      <td>-0.005840</td>\n",
       "      <td>-0.000465</td>\n",
       "      <td>-0.000479</td>\n",
       "      <td>0.000821</td>\n",
       "      <td>0.000336</td>\n",
       "    </tr>\n",
       "    <tr>\n",
       "      <th>4</th>\n",
       "      <td>|negative|</td>\n",
       "      <td>2019-02-11</td>\n",
       "      <td>b  RT  SeekingAlpha   AAPL   Apple  Valentine ...</td>\n",
       "      <td>-1.0</td>\n",
       "      <td>0.006604</td>\n",
       "      <td>0.053128</td>\n",
       "      <td>-0.003003</td>\n",
       "      <td>0.026623</td>\n",
       "      <td>0.094276</td>\n",
       "      <td>-0.012314</td>\n",
       "      <td>...</td>\n",
       "      <td>-0.045294</td>\n",
       "      <td>-0.015858</td>\n",
       "      <td>0.043839</td>\n",
       "      <td>-0.035746</td>\n",
       "      <td>0.024408</td>\n",
       "      <td>0.030885</td>\n",
       "      <td>-0.032174</td>\n",
       "      <td>0.091432</td>\n",
       "      <td>0.002969</td>\n",
       "      <td>0.035980</td>\n",
       "    </tr>\n",
       "  </tbody>\n",
       "</table>\n",
       "<p>5 rows × 104 columns</p>\n",
       "</div>"
      ],
      "text/plain": [
       "    sentiment         date                                              tweet  \\\n",
       "0         NaN          NaN                                                NaN   \n",
       "1  |negative|  2019-02-11   b  RT  shadownomics  There is no such thing as...   \n",
       "2         NaN          NaN                                                NaN   \n",
       "3  |positive|  2019-02-11   b  Join  RobinhoodApp and we ll both get a sto...   \n",
       "4  |negative|  2019-02-11   b  RT  SeekingAlpha   AAPL   Apple  Valentine ...   \n",
       "\n",
       "   score         0         1         2         3         4         5  \\\n",
       "0    NaN  0.004226  0.100904 -0.005942  0.140583  0.066988 -0.005676   \n",
       "1   -1.0  0.812138 -0.012455 -0.003893 -0.007397 -0.012624  0.001599   \n",
       "2    NaN  0.012332  0.042987 -0.000168  0.000177  0.042983 -0.006323   \n",
       "3    4.0  0.812138 -0.012455 -0.003894 -0.007397 -0.012624  0.001599   \n",
       "4   -1.0  0.006604  0.053128 -0.003003  0.026623  0.094276 -0.012314   \n",
       "\n",
       "     ...           90        91        92        93        94        95  \\\n",
       "0    ...    -0.093137  0.061159 -0.054413  0.045821 -0.126615 -0.024724   \n",
       "1    ...    -0.002050  0.001250  0.001780  0.004271  0.000171 -0.005292   \n",
       "2    ...     0.003625 -0.001461 -0.005353 -0.000355  0.006541  0.009740   \n",
       "3    ...    -0.001813  0.001978  0.001651  0.005068  0.000679 -0.005840   \n",
       "4    ...    -0.045294 -0.015858  0.043839 -0.035746  0.024408  0.030885   \n",
       "\n",
       "         96        97        98        99  \n",
       "0 -0.077025 -0.004301 -0.038125 -0.080263  \n",
       "1 -0.000432 -0.000197  0.000652  0.000560  \n",
       "2  0.000903  0.001890  0.007119 -0.005651  \n",
       "3 -0.000465 -0.000479  0.000821  0.000336  \n",
       "4 -0.032174  0.091432  0.002969  0.035980  \n",
       "\n",
       "[5 rows x 104 columns]"
      ]
     },
     "execution_count": 11,
     "metadata": {},
     "output_type": "execute_result"
    }
   ],
   "source": [
    "df = pd.concat([df, pd.DataFrame(tfidf_reduced)], axis=1)\n",
    "df.head()"
   ]
  },
  {
   "cell_type": "code",
   "execution_count": 28,
   "metadata": {},
   "outputs": [
    {
     "data": {
      "text/html": [
       "<div>\n",
       "<style scoped>\n",
       "    .dataframe tbody tr th:only-of-type {\n",
       "        vertical-align: middle;\n",
       "    }\n",
       "\n",
       "    .dataframe tbody tr th {\n",
       "        vertical-align: top;\n",
       "    }\n",
       "\n",
       "    .dataframe thead th {\n",
       "        text-align: right;\n",
       "    }\n",
       "</style>\n",
       "<table border=\"1\" class=\"dataframe\">\n",
       "  <thead>\n",
       "    <tr style=\"text-align: right;\">\n",
       "      <th></th>\n",
       "      <th>tweet</th>\n",
       "      <th>sentiment</th>\n",
       "      <th>17</th>\n",
       "    </tr>\n",
       "  </thead>\n",
       "  <tbody>\n",
       "    <tr>\n",
       "      <th>246</th>\n",
       "      <td>b  2015 was as good as it got for Apple in Chi...</td>\n",
       "      <td>|positive|</td>\n",
       "      <td>0.35</td>\n",
       "    </tr>\n",
       "    <tr>\n",
       "      <th>105</th>\n",
       "      <td>b  RT  Sandro_power  Are you losing in the mar...</td>\n",
       "      <td>|positive|</td>\n",
       "      <td>0.35</td>\n",
       "    </tr>\n",
       "    <tr>\n",
       "      <th>244</th>\n",
       "      <td>b   AAPL Daily   AAPL got shut down dead in it...</td>\n",
       "      <td>|negative|</td>\n",
       "      <td>0.34</td>\n",
       "    </tr>\n",
       "    <tr>\n",
       "      <th>203</th>\n",
       "      <td>b  RT  Sandro_power  Are you tired of missing ...</td>\n",
       "      <td>|positive|</td>\n",
       "      <td>0.14</td>\n",
       "    </tr>\n",
       "    <tr>\n",
       "      <th>159</th>\n",
       "      <td>b   BadarianSalaam Join  RobinhoodApp and we l...</td>\n",
       "      <td>|positive|</td>\n",
       "      <td>0.09</td>\n",
       "    </tr>\n",
       "    <tr>\n",
       "      <th>133</th>\n",
       "      <td>b  Blessed day in the market  Market was stron...</td>\n",
       "      <td>|positive|</td>\n",
       "      <td>0.09</td>\n",
       "    </tr>\n",
       "    <tr>\n",
       "      <th>72</th>\n",
       "      <td>b  Apple xe2 x80 x99s Next Big Thing Could Be ...</td>\n",
       "      <td>|positive|</td>\n",
       "      <td>-0.29</td>\n",
       "    </tr>\n",
       "    <tr>\n",
       "      <th>71</th>\n",
       "      <td>b  With past performance like this  how can yo...</td>\n",
       "      <td>|positive|</td>\n",
       "      <td>-0.29</td>\n",
       "    </tr>\n",
       "    <tr>\n",
       "      <th>24</th>\n",
       "      <td>b  Join  RobinhoodApp and we ll both get a sto...</td>\n",
       "      <td>|positive|</td>\n",
       "      <td>-0.33</td>\n",
       "    </tr>\n",
       "    <tr>\n",
       "      <th>28</th>\n",
       "      <td>b  Join  RobinhoodApp and we ll both get a sto...</td>\n",
       "      <td>|positive|</td>\n",
       "      <td>-0.33</td>\n",
       "    </tr>\n",
       "    <tr>\n",
       "      <th>9</th>\n",
       "      <td>b   AAPL   Apple  Valentine s  Margin  Crush h...</td>\n",
       "      <td>|negative|</td>\n",
       "      <td>-0.34</td>\n",
       "    </tr>\n",
       "  </tbody>\n",
       "</table>\n",
       "</div>"
      ],
      "text/plain": [
       "                                                 tweet   sentiment    17\n",
       "246  b  2015 was as good as it got for Apple in Chi...  |positive|  0.35\n",
       "105  b  RT  Sandro_power  Are you losing in the mar...  |positive|  0.35\n",
       "244  b   AAPL Daily   AAPL got shut down dead in it...  |negative|  0.34\n",
       "203  b  RT  Sandro_power  Are you tired of missing ...  |positive|  0.14\n",
       "159  b   BadarianSalaam Join  RobinhoodApp and we l...  |positive|  0.09\n",
       "133  b  Blessed day in the market  Market was stron...  |positive|  0.09\n",
       "72   b  Apple xe2 x80 x99s Next Big Thing Could Be ...  |positive| -0.29\n",
       "71   b  With past performance like this  how can yo...  |positive| -0.29\n",
       "24   b  Join  RobinhoodApp and we ll both get a sto...  |positive| -0.33\n",
       "28   b  Join  RobinhoodApp and we ll both get a sto...  |positive| -0.33\n",
       "9    b   AAPL   Apple  Valentine s  Margin  Crush h...  |negative| -0.34"
      ]
     },
     "metadata": {},
     "output_type": "display_data"
    },
    {
     "data": {
      "text/plain": [
       "'tweet,sentiment,17\\nb  2015 was as good as it got for Apple in China   AAPL xc2 xa0 https   t co HDfjD8j3B6 ,|positive|,0.35\\nb  RT  Sandro_power  Are you losing in the markets when you should be making great gains  Do you sell to quickly then watch you gains fly high xe2 x80 xa6 ,|positive|,0.35\\nb   AAPL Daily   AAPL got shut down dead in its tracks at 175  A failure to reach 200MA is very bearish signal  Since xe2 x80 xa6 https   t co 6Nj3Mxyg8Q ,|negative|,0.34\\nb  RT  Sandro_power  Are you tired of missing great gains in the markets  Do you want to feel confident and make money instead  Live Steam Ton xe2 x80 xa6 ,|positive|,0.14\\nb   BadarianSalaam Join  RobinhoodApp and we ll both get a stock like  AAPL   F  or  S for free  Make sure to use my l xe2 x80 xa6 https   t co WidhzeLuab ,|positive|,0.09\\nb  Blessed day in the market  Market was strong  Can catch really strong moves  amp  hold on as it grinds or pops higher o xe2 x80 xa6 https   t co thv2aORLie ,|positive|,0.09\\nb  Apple xe2 x80 x99s Next Big Thing Could Be An iPhone Bundle  AAPL https   t co ArVZWfGINN ,|positive|,-0.29\\nb  With past performance like this  how can you not sign up for a Free 7 day trial to https   t co FYgJl5yL0E  Winning xe2 x80 xa6 https   t co dsGW88vdmq ,|positive|,-0.29\\nb  Join  RobinhoodApp and we ll both get a stock like  AAPL   F  or  S for free  Make sure to use my link   https   t co Vo9zkterxO ,|positive|,-0.33\\nb  Join  RobinhoodApp and we ll both get a stock like  AAPL   F  or  S for free  Make sure to use my link   https   t co Q4qE9OlHHx ,|positive|,-0.33\\nb   AAPL   Apple  Valentine s  Margin  Crush https   t co cRRHnfnYCE ,|negative|,-0.34\\n'"
      ]
     },
     "execution_count": 28,
     "metadata": {},
     "output_type": "execute_result"
    }
   ],
   "source": [
    "k = 17\n",
    "ix = [0,1,2,3,4,5,-5,-4,-3,-2,-1]\n",
    "current_df = df.sort_values(k, ascending=False).dropna().iloc[ix,:][['tweet', 'sentiment', k]].round(2)\n",
    "display(current_df)\n",
    "current_df.to_csv(index=False)\n",
    "#print(list(current_df.columns.names))\n",
    "#for ix in range(10):\n",
    "#    print(current_df.tweet[ix])\n",
    "#    print('----------')\n",
    "#    print(df.sentiment[ix]+' - '+df['0'][ix])\n",
    "#    print('----------')\n",
    "    \n"
   ]
  },
  {
   "cell_type": "code",
   "execution_count": 20,
   "metadata": {},
   "outputs": [
    {
     "data": {
      "text/plain": [
       "pandas.core.series.Series"
      ]
     },
     "execution_count": 20,
     "metadata": {},
     "output_type": "execute_result"
    }
   ],
   "source": [
    "attributes = pd.DataFrame(tfidf_reduced)\n",
    "target = df.sentiment.dropna()\n",
    "Tree = tree.DecisionTreeClassifier(max_depth=3)\n",
    "Tree.fit(attributes,target)\n",
    "type(target)"
   ]
  },
  {
   "cell_type": "code",
   "execution_count": 21,
   "metadata": {},
   "outputs": [
    {
     "data": {
      "image/svg+xml": [
       "<?xml version=\"1.0\" encoding=\"UTF-8\" standalone=\"no\"?>\r\n",
       "<!DOCTYPE svg PUBLIC \"-//W3C//DTD SVG 1.1//EN\"\r\n",
       " \"http://www.w3.org/Graphics/SVG/1.1/DTD/svg11.dtd\">\r\n",
       "<!-- Generated by graphviz version 2.38.0 (20140413.2041)\r\n",
       " -->\r\n",
       "<!-- Title: Tree Pages: 1 -->\r\n",
       "<svg width=\"967pt\" height=\"373pt\"\r\n",
       " viewBox=\"0.00 0.00 967.00 373.00\" xmlns=\"http://www.w3.org/2000/svg\" xmlns:xlink=\"http://www.w3.org/1999/xlink\">\r\n",
       "<g id=\"graph0\" class=\"graph\" transform=\"scale(1 1) rotate(0) translate(4 369)\">\r\n",
       "<title>Tree</title>\r\n",
       "<polygon fill=\"white\" stroke=\"none\" points=\"-4,4 -4,-369 963,-369 963,4 -4,4\"/>\r\n",
       "<!-- 0 -->\r\n",
       "<g id=\"node1\" class=\"node\"><title>0</title>\r\n",
       "<path fill=\"#399de5\" fill-opacity=\"0.709804\" stroke=\"black\" d=\"M548,-365C548,-365 418,-365 418,-365 412,-365 406,-359 406,-353 406,-353 406,-309 406,-309 406,-303 412,-297 418,-297 418,-297 548,-297 548,-297 554,-297 560,-303 560,-309 560,-309 560,-353 560,-353 560,-359 554,-365 548,-365\"/>\r\n",
       "<text text-anchor=\"middle\" x=\"483\" y=\"-349.8\" font-family=\"Helvetica,sans-Serif\" font-size=\"14.00\">X[17] &lt;= 0.011</text>\r\n",
       "<text text-anchor=\"middle\" x=\"483\" y=\"-334.8\" font-family=\"Helvetica,sans-Serif\" font-size=\"14.00\">samples = 100.0%</text>\r\n",
       "<text text-anchor=\"middle\" x=\"483\" y=\"-319.8\" font-family=\"Helvetica,sans-Serif\" font-size=\"14.00\">value = [0.224, 0.776]</text>\r\n",
       "<text text-anchor=\"middle\" x=\"483\" y=\"-304.8\" font-family=\"Helvetica,sans-Serif\" font-size=\"14.00\">class = |positive|</text>\r\n",
       "</g>\r\n",
       "<!-- 1 -->\r\n",
       "<g id=\"node2\" class=\"node\"><title>1</title>\r\n",
       "<path fill=\"#399de5\" fill-opacity=\"0.847059\" stroke=\"black\" d=\"M462,-261C462,-261 332,-261 332,-261 326,-261 320,-255 320,-249 320,-249 320,-205 320,-205 320,-199 326,-193 332,-193 332,-193 462,-193 462,-193 468,-193 474,-199 474,-205 474,-205 474,-249 474,-249 474,-255 468,-261 462,-261\"/>\r\n",
       "<text text-anchor=\"middle\" x=\"397\" y=\"-245.8\" font-family=\"Helvetica,sans-Serif\" font-size=\"14.00\">X[48] &lt;= 0.102</text>\r\n",
       "<text text-anchor=\"middle\" x=\"397\" y=\"-230.8\" font-family=\"Helvetica,sans-Serif\" font-size=\"14.00\">samples = 73.5%</text>\r\n",
       "<text text-anchor=\"middle\" x=\"397\" y=\"-215.8\" font-family=\"Helvetica,sans-Serif\" font-size=\"14.00\">value = [0.132, 0.868]</text>\r\n",
       "<text text-anchor=\"middle\" x=\"397\" y=\"-200.8\" font-family=\"Helvetica,sans-Serif\" font-size=\"14.00\">class = |positive|</text>\r\n",
       "</g>\r\n",
       "<!-- 0&#45;&gt;1 -->\r\n",
       "<g id=\"edge1\" class=\"edge\"><title>0&#45;&gt;1</title>\r\n",
       "<path fill=\"none\" stroke=\"black\" d=\"M455.078,-296.884C447.568,-287.976 439.355,-278.235 431.532,-268.957\"/>\r\n",
       "<polygon fill=\"black\" stroke=\"black\" points=\"434.198,-266.689 425.076,-261.299 428.846,-271.201 434.198,-266.689\"/>\r\n",
       "<text text-anchor=\"middle\" x=\"422.956\" y=\"-282.509\" font-family=\"Helvetica,sans-Serif\" font-size=\"14.00\">True</text>\r\n",
       "</g>\r\n",
       "<!-- 8 -->\r\n",
       "<g id=\"node9\" class=\"node\"><title>8</title>\r\n",
       "<path fill=\"#399de5\" fill-opacity=\"0.082353\" stroke=\"black\" d=\"M634,-261C634,-261 504,-261 504,-261 498,-261 492,-255 492,-249 492,-249 492,-205 492,-205 492,-199 498,-193 504,-193 504,-193 634,-193 634,-193 640,-193 646,-199 646,-205 646,-205 646,-249 646,-249 646,-255 640,-261 634,-261\"/>\r\n",
       "<text text-anchor=\"middle\" x=\"569\" y=\"-245.8\" font-family=\"Helvetica,sans-Serif\" font-size=\"14.00\">X[5] &lt;= &#45;0.027</text>\r\n",
       "<text text-anchor=\"middle\" x=\"569\" y=\"-230.8\" font-family=\"Helvetica,sans-Serif\" font-size=\"14.00\">samples = 26.5%</text>\r\n",
       "<text text-anchor=\"middle\" x=\"569\" y=\"-215.8\" font-family=\"Helvetica,sans-Serif\" font-size=\"14.00\">value = [0.479, 0.521]</text>\r\n",
       "<text text-anchor=\"middle\" x=\"569\" y=\"-200.8\" font-family=\"Helvetica,sans-Serif\" font-size=\"14.00\">class = |positive|</text>\r\n",
       "</g>\r\n",
       "<!-- 0&#45;&gt;8 -->\r\n",
       "<g id=\"edge8\" class=\"edge\"><title>0&#45;&gt;8</title>\r\n",
       "<path fill=\"none\" stroke=\"black\" d=\"M510.922,-296.884C518.432,-287.976 526.645,-278.235 534.468,-268.957\"/>\r\n",
       "<polygon fill=\"black\" stroke=\"black\" points=\"537.154,-271.201 540.924,-261.299 531.802,-266.689 537.154,-271.201\"/>\r\n",
       "<text text-anchor=\"middle\" x=\"543.044\" y=\"-282.509\" font-family=\"Helvetica,sans-Serif\" font-size=\"14.00\">False</text>\r\n",
       "</g>\r\n",
       "<!-- 2 -->\r\n",
       "<g id=\"node3\" class=\"node\"><title>2</title>\r\n",
       "<path fill=\"#399de5\" fill-opacity=\"0.894118\" stroke=\"black\" d=\"M294,-157C294,-157 164,-157 164,-157 158,-157 152,-151 152,-145 152,-145 152,-101 152,-101 152,-95 158,-89 164,-89 164,-89 294,-89 294,-89 300,-89 306,-95 306,-101 306,-101 306,-145 306,-145 306,-151 300,-157 294,-157\"/>\r\n",
       "<text text-anchor=\"middle\" x=\"229\" y=\"-141.8\" font-family=\"Helvetica,sans-Serif\" font-size=\"14.00\">X[19] &lt;= 0.142</text>\r\n",
       "<text text-anchor=\"middle\" x=\"229\" y=\"-126.8\" font-family=\"Helvetica,sans-Serif\" font-size=\"14.00\">samples = 70.1%</text>\r\n",
       "<text text-anchor=\"middle\" x=\"229\" y=\"-111.8\" font-family=\"Helvetica,sans-Serif\" font-size=\"14.00\">value = [0.096, 0.904]</text>\r\n",
       "<text text-anchor=\"middle\" x=\"229\" y=\"-96.8\" font-family=\"Helvetica,sans-Serif\" font-size=\"14.00\">class = |positive|</text>\r\n",
       "</g>\r\n",
       "<!-- 1&#45;&gt;2 -->\r\n",
       "<g id=\"edge2\" class=\"edge\"><title>1&#45;&gt;2</title>\r\n",
       "<path fill=\"none\" stroke=\"black\" d=\"M342.455,-192.884C326.53,-183.214 308.987,-172.563 292.555,-162.587\"/>\r\n",
       "<polygon fill=\"black\" stroke=\"black\" points=\"293.923,-159.323 283.558,-157.125 290.29,-165.306 293.923,-159.323\"/>\r\n",
       "</g>\r\n",
       "<!-- 5 -->\r\n",
       "<g id=\"node6\" class=\"node\"><title>5</title>\r\n",
       "<path fill=\"#e58139\" fill-opacity=\"0.874510\" stroke=\"black\" d=\"M466,-157C466,-157 336,-157 336,-157 330,-157 324,-151 324,-145 324,-145 324,-101 324,-101 324,-95 330,-89 336,-89 336,-89 466,-89 466,-89 472,-89 478,-95 478,-101 478,-101 478,-145 478,-145 478,-151 472,-157 466,-157\"/>\r\n",
       "<text text-anchor=\"middle\" x=\"401\" y=\"-141.8\" font-family=\"Helvetica,sans-Serif\" font-size=\"14.00\">X[17] &lt;= &#45;0.024</text>\r\n",
       "<text text-anchor=\"middle\" x=\"401\" y=\"-126.8\" font-family=\"Helvetica,sans-Serif\" font-size=\"14.00\">samples = 3.4%</text>\r\n",
       "<text text-anchor=\"middle\" x=\"401\" y=\"-111.8\" font-family=\"Helvetica,sans-Serif\" font-size=\"14.00\">value = [0.889, 0.111]</text>\r\n",
       "<text text-anchor=\"middle\" x=\"401\" y=\"-96.8\" font-family=\"Helvetica,sans-Serif\" font-size=\"14.00\">class = |negative|</text>\r\n",
       "</g>\r\n",
       "<!-- 1&#45;&gt;5 -->\r\n",
       "<g id=\"edge5\" class=\"edge\"><title>1&#45;&gt;5</title>\r\n",
       "<path fill=\"none\" stroke=\"black\" d=\"M398.299,-192.884C398.617,-184.778 398.961,-175.982 399.295,-167.472\"/>\r\n",
       "<polygon fill=\"black\" stroke=\"black\" points=\"402.8,-167.429 399.694,-157.299 395.805,-167.155 402.8,-167.429\"/>\r\n",
       "</g>\r\n",
       "<!-- 3 -->\r\n",
       "<g id=\"node4\" class=\"node\"><title>3</title>\r\n",
       "<path fill=\"#399de5\" fill-opacity=\"0.917647\" stroke=\"black\" d=\"M142,-53C142,-53 12,-53 12,-53 6,-53 0,-47 0,-41 0,-41 0,-12 0,-12 0,-6 6,-0 12,-0 12,-0 142,-0 142,-0 148,-0 154,-6 154,-12 154,-12 154,-41 154,-41 154,-47 148,-53 142,-53\"/>\r\n",
       "<text text-anchor=\"middle\" x=\"77\" y=\"-37.8\" font-family=\"Helvetica,sans-Serif\" font-size=\"14.00\">samples = 68.7%</text>\r\n",
       "<text text-anchor=\"middle\" x=\"77\" y=\"-22.8\" font-family=\"Helvetica,sans-Serif\" font-size=\"14.00\">value = [0.076, 0.924]</text>\r\n",
       "<text text-anchor=\"middle\" x=\"77\" y=\"-7.8\" font-family=\"Helvetica,sans-Serif\" font-size=\"14.00\">class = |positive|</text>\r\n",
       "</g>\r\n",
       "<!-- 2&#45;&gt;3 -->\r\n",
       "<g id=\"edge3\" class=\"edge\"><title>2&#45;&gt;3</title>\r\n",
       "<path fill=\"none\" stroke=\"black\" d=\"M175.838,-88.9485C159.946,-79.0686 142.586,-68.2758 126.911,-58.5305\"/>\r\n",
       "<polygon fill=\"black\" stroke=\"black\" points=\"128.737,-55.5443 118.397,-53.2367 125.041,-61.489 128.737,-55.5443\"/>\r\n",
       "</g>\r\n",
       "<!-- 4 -->\r\n",
       "<g id=\"node5\" class=\"node\"><title>4</title>\r\n",
       "<path fill=\"#e58139\" stroke=\"black\" d=\"M288,-53C288,-53 184,-53 184,-53 178,-53 172,-47 172,-41 172,-41 172,-12 172,-12 172,-6 178,-0 184,-0 184,-0 288,-0 288,-0 294,-0 300,-6 300,-12 300,-12 300,-41 300,-41 300,-47 294,-53 288,-53\"/>\r\n",
       "<text text-anchor=\"middle\" x=\"236\" y=\"-37.8\" font-family=\"Helvetica,sans-Serif\" font-size=\"14.00\">samples = 1.5%</text>\r\n",
       "<text text-anchor=\"middle\" x=\"236\" y=\"-22.8\" font-family=\"Helvetica,sans-Serif\" font-size=\"14.00\">value = [1.0, 0.0]</text>\r\n",
       "<text text-anchor=\"middle\" x=\"236\" y=\"-7.8\" font-family=\"Helvetica,sans-Serif\" font-size=\"14.00\">class = |negative|</text>\r\n",
       "</g>\r\n",
       "<!-- 2&#45;&gt;4 -->\r\n",
       "<g id=\"edge4\" class=\"edge\"><title>2&#45;&gt;4</title>\r\n",
       "<path fill=\"none\" stroke=\"black\" d=\"M231.448,-88.9485C232.058,-80.7153 232.715,-71.848 233.335,-63.4814\"/>\r\n",
       "<polygon fill=\"black\" stroke=\"black\" points=\"236.845,-63.468 234.094,-53.2367 229.864,-62.9508 236.845,-63.468\"/>\r\n",
       "</g>\r\n",
       "<!-- 6 -->\r\n",
       "<g id=\"node7\" class=\"node\"><title>6</title>\r\n",
       "<path fill=\"#399de5\" stroke=\"black\" d=\"M443.5,-53C443.5,-53 344.5,-53 344.5,-53 338.5,-53 332.5,-47 332.5,-41 332.5,-41 332.5,-12 332.5,-12 332.5,-6 338.5,-0 344.5,-0 344.5,-0 443.5,-0 443.5,-0 449.5,-0 455.5,-6 455.5,-12 455.5,-12 455.5,-41 455.5,-41 455.5,-47 449.5,-53 443.5,-53\"/>\r\n",
       "<text text-anchor=\"middle\" x=\"394\" y=\"-37.8\" font-family=\"Helvetica,sans-Serif\" font-size=\"14.00\">samples = 0.4%</text>\r\n",
       "<text text-anchor=\"middle\" x=\"394\" y=\"-22.8\" font-family=\"Helvetica,sans-Serif\" font-size=\"14.00\">value = [0.0, 1.0]</text>\r\n",
       "<text text-anchor=\"middle\" x=\"394\" y=\"-7.8\" font-family=\"Helvetica,sans-Serif\" font-size=\"14.00\">class = |positive|</text>\r\n",
       "</g>\r\n",
       "<!-- 5&#45;&gt;6 -->\r\n",
       "<g id=\"edge6\" class=\"edge\"><title>5&#45;&gt;6</title>\r\n",
       "<path fill=\"none\" stroke=\"black\" d=\"M398.552,-88.9485C397.942,-80.7153 397.285,-71.848 396.665,-63.4814\"/>\r\n",
       "<polygon fill=\"black\" stroke=\"black\" points=\"400.136,-62.9508 395.906,-53.2367 393.155,-63.468 400.136,-62.9508\"/>\r\n",
       "</g>\r\n",
       "<!-- 7 -->\r\n",
       "<g id=\"node8\" class=\"node\"><title>7</title>\r\n",
       "<path fill=\"#e58139\" stroke=\"black\" d=\"M590,-53C590,-53 486,-53 486,-53 480,-53 474,-47 474,-41 474,-41 474,-12 474,-12 474,-6 480,-0 486,-0 486,-0 590,-0 590,-0 596,-0 602,-6 602,-12 602,-12 602,-41 602,-41 602,-47 596,-53 590,-53\"/>\r\n",
       "<text text-anchor=\"middle\" x=\"538\" y=\"-37.8\" font-family=\"Helvetica,sans-Serif\" font-size=\"14.00\">samples = 3.0%</text>\r\n",
       "<text text-anchor=\"middle\" x=\"538\" y=\"-22.8\" font-family=\"Helvetica,sans-Serif\" font-size=\"14.00\">value = [1.0, 0.0]</text>\r\n",
       "<text text-anchor=\"middle\" x=\"538\" y=\"-7.8\" font-family=\"Helvetica,sans-Serif\" font-size=\"14.00\">class = |negative|</text>\r\n",
       "</g>\r\n",
       "<!-- 5&#45;&gt;7 -->\r\n",
       "<g id=\"edge7\" class=\"edge\"><title>5&#45;&gt;7</title>\r\n",
       "<path fill=\"none\" stroke=\"black\" d=\"M448.916,-88.9485C462.974,-79.2516 478.307,-68.6752 492.228,-59.073\"/>\r\n",
       "<polygon fill=\"black\" stroke=\"black\" points=\"494.444,-61.7959 500.689,-53.2367 490.47,-56.0337 494.444,-61.7959\"/>\r\n",
       "</g>\r\n",
       "<!-- 9 -->\r\n",
       "<g id=\"node10\" class=\"node\"><title>9</title>\r\n",
       "<path fill=\"#399de5\" stroke=\"black\" d=\"M614.5,-149.5C614.5,-149.5 515.5,-149.5 515.5,-149.5 509.5,-149.5 503.5,-143.5 503.5,-137.5 503.5,-137.5 503.5,-108.5 503.5,-108.5 503.5,-102.5 509.5,-96.5 515.5,-96.5 515.5,-96.5 614.5,-96.5 614.5,-96.5 620.5,-96.5 626.5,-102.5 626.5,-108.5 626.5,-108.5 626.5,-137.5 626.5,-137.5 626.5,-143.5 620.5,-149.5 614.5,-149.5\"/>\r\n",
       "<text text-anchor=\"middle\" x=\"565\" y=\"-134.3\" font-family=\"Helvetica,sans-Serif\" font-size=\"14.00\">samples = 7.1%</text>\r\n",
       "<text text-anchor=\"middle\" x=\"565\" y=\"-119.3\" font-family=\"Helvetica,sans-Serif\" font-size=\"14.00\">value = [0.0, 1.0]</text>\r\n",
       "<text text-anchor=\"middle\" x=\"565\" y=\"-104.3\" font-family=\"Helvetica,sans-Serif\" font-size=\"14.00\">class = |positive|</text>\r\n",
       "</g>\r\n",
       "<!-- 8&#45;&gt;9 -->\r\n",
       "<g id=\"edge9\" class=\"edge\"><title>8&#45;&gt;9</title>\r\n",
       "<path fill=\"none\" stroke=\"black\" d=\"M567.701,-192.884C567.283,-182.216 566.818,-170.352 566.393,-159.519\"/>\r\n",
       "<polygon fill=\"black\" stroke=\"black\" points=\"569.89,-159.375 566.001,-149.52 562.895,-159.649 569.89,-159.375\"/>\r\n",
       "</g>\r\n",
       "<!-- 10 -->\r\n",
       "<g id=\"node11\" class=\"node\"><title>10</title>\r\n",
       "<path fill=\"#e58139\" fill-opacity=\"0.470588\" stroke=\"black\" d=\"M787,-157C787,-157 657,-157 657,-157 651,-157 645,-151 645,-145 645,-145 645,-101 645,-101 645,-95 651,-89 657,-89 657,-89 787,-89 787,-89 793,-89 799,-95 799,-101 799,-101 799,-145 799,-145 799,-151 793,-157 787,-157\"/>\r\n",
       "<text text-anchor=\"middle\" x=\"722\" y=\"-141.8\" font-family=\"Helvetica,sans-Serif\" font-size=\"14.00\">X[84] &lt;= 0.002</text>\r\n",
       "<text text-anchor=\"middle\" x=\"722\" y=\"-126.8\" font-family=\"Helvetica,sans-Serif\" font-size=\"14.00\">samples = 19.4%</text>\r\n",
       "<text text-anchor=\"middle\" x=\"722\" y=\"-111.8\" font-family=\"Helvetica,sans-Serif\" font-size=\"14.00\">value = [0.654, 0.346]</text>\r\n",
       "<text text-anchor=\"middle\" x=\"722\" y=\"-96.8\" font-family=\"Helvetica,sans-Serif\" font-size=\"14.00\">class = |negative|</text>\r\n",
       "</g>\r\n",
       "<!-- 8&#45;&gt;10 -->\r\n",
       "<g id=\"edge10\" class=\"edge\"><title>8&#45;&gt;10</title>\r\n",
       "<path fill=\"none\" stroke=\"black\" d=\"M618.675,-192.884C633.044,-183.304 648.859,-172.761 663.703,-162.864\"/>\r\n",
       "<polygon fill=\"black\" stroke=\"black\" points=\"665.934,-165.584 672.313,-157.125 662.051,-159.76 665.934,-165.584\"/>\r\n",
       "</g>\r\n",
       "<!-- 11 -->\r\n",
       "<g id=\"node12\" class=\"node\"><title>11</title>\r\n",
       "<path fill=\"#e58139\" fill-opacity=\"0.866667\" stroke=\"black\" d=\"M775,-53C775,-53 645,-53 645,-53 639,-53 633,-47 633,-41 633,-41 633,-12 633,-12 633,-6 639,-0 645,-0 645,-0 775,-0 775,-0 781,-0 787,-6 787,-12 787,-12 787,-41 787,-41 787,-47 781,-53 775,-53\"/>\r\n",
       "<text text-anchor=\"middle\" x=\"710\" y=\"-37.8\" font-family=\"Helvetica,sans-Serif\" font-size=\"14.00\">samples = 12.7%</text>\r\n",
       "<text text-anchor=\"middle\" x=\"710\" y=\"-22.8\" font-family=\"Helvetica,sans-Serif\" font-size=\"14.00\">value = [0.882, 0.118]</text>\r\n",
       "<text text-anchor=\"middle\" x=\"710\" y=\"-7.8\" font-family=\"Helvetica,sans-Serif\" font-size=\"14.00\">class = |negative|</text>\r\n",
       "</g>\r\n",
       "<!-- 10&#45;&gt;11 -->\r\n",
       "<g id=\"edge11\" class=\"edge\"><title>10&#45;&gt;11</title>\r\n",
       "<path fill=\"none\" stroke=\"black\" d=\"M717.803,-88.9485C716.746,-80.6238 715.606,-71.6509 714.534,-63.2027\"/>\r\n",
       "<polygon fill=\"black\" stroke=\"black\" points=\"718,-62.7161 713.268,-53.2367 711.056,-63.598 718,-62.7161\"/>\r\n",
       "</g>\r\n",
       "<!-- 12 -->\r\n",
       "<g id=\"node13\" class=\"node\"><title>12</title>\r\n",
       "<path fill=\"#399de5\" fill-opacity=\"0.713725\" stroke=\"black\" d=\"M947,-53C947,-53 817,-53 817,-53 811,-53 805,-47 805,-41 805,-41 805,-12 805,-12 805,-6 811,-0 817,-0 817,-0 947,-0 947,-0 953,-0 959,-6 959,-12 959,-12 959,-41 959,-41 959,-47 953,-53 947,-53\"/>\r\n",
       "<text text-anchor=\"middle\" x=\"882\" y=\"-37.8\" font-family=\"Helvetica,sans-Serif\" font-size=\"14.00\">samples = 6.7%</text>\r\n",
       "<text text-anchor=\"middle\" x=\"882\" y=\"-22.8\" font-family=\"Helvetica,sans-Serif\" font-size=\"14.00\">value = [0.222, 0.778]</text>\r\n",
       "<text text-anchor=\"middle\" x=\"882\" y=\"-7.8\" font-family=\"Helvetica,sans-Serif\" font-size=\"14.00\">class = |positive|</text>\r\n",
       "</g>\r\n",
       "<!-- 10&#45;&gt;12 -->\r\n",
       "<g id=\"edge12\" class=\"edge\"><title>10&#45;&gt;12</title>\r\n",
       "<path fill=\"none\" stroke=\"black\" d=\"M777.96,-88.9485C794.764,-79.0237 813.128,-68.1776 829.686,-58.3977\"/>\r\n",
       "<polygon fill=\"black\" stroke=\"black\" points=\"831.848,-61.1858 838.679,-53.0867 828.288,-55.1586 831.848,-61.1858\"/>\r\n",
       "</g>\r\n",
       "</g>\r\n",
       "</svg>\r\n"
      ],
      "text/plain": [
       "<graphviz.files.Source at 0x2346e0c5940>"
      ]
     },
     "execution_count": 21,
     "metadata": {},
     "output_type": "execute_result"
    }
   ],
   "source": [
    "dot_data = tree.export_graphviz(Tree,\n",
    "                               out_file = None,\n",
    "                               class_names = df.sentiment.cat.categories,\n",
    "                               proportion=True,\n",
    "                               impurity = False,\n",
    "                               filled = True,\n",
    "                               rounded = True)\n",
    "graph = graphviz.Source(dot_data)\n",
    "graph"
   ]
  },
  {
   "cell_type": "code",
   "execution_count": null,
   "metadata": {},
   "outputs": [],
   "source": []
  }
 ],
 "metadata": {
  "kernelspec": {
   "display_name": "Python 3",
   "language": "python",
   "name": "python3"
  },
  "language_info": {
   "codemirror_mode": {
    "name": "ipython",
    "version": 3
   },
   "file_extension": ".py",
   "mimetype": "text/x-python",
   "name": "python",
   "nbconvert_exporter": "python",
   "pygments_lexer": "ipython3",
   "version": "3.7.0"
  }
 },
 "nbformat": 4,
 "nbformat_minor": 2
}
